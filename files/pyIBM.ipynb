{
 "cells": [
  {
   "cell_type": "code",
   "execution_count": 1,
   "metadata": {},
   "outputs": [],
   "source": [
    "import os\n",
    "import ibm_db # API\n",
    "\n",
    "from dotenv import load_dotenv # Hide credentials\n",
    "from pathlib import Path # Path to env file"
   ]
  },
  {
   "cell_type": "code",
   "execution_count": 4,
   "metadata": {},
   "outputs": [],
   "source": [
    "env_path = Path('C:/Users/chanm/Desktop/PyIBM_database') / '.env'\n",
    "load_dotenv(dotenv_path = env_path)\n",
    "\n",
    "dsn_hostname = os.getenv('Db2Hostname')\n",
    "dsn_uid = os.getenv('Db2Username')\n",
    "dsn_pwd = os.getenv('Db2Password')"
   ]
  },
  {
   "cell_type": "code",
   "execution_count": null,
   "metadata": {},
   "outputs": [],
   "source": []
  }
 ],
 "metadata": {
  "kernelspec": {
   "display_name": "Python 3",
   "language": "python",
   "name": "python3"
  },
  "language_info": {
   "codemirror_mode": {
    "name": "ipython",
    "version": 3
   },
   "file_extension": ".py",
   "mimetype": "text/x-python",
   "name": "python",
   "nbconvert_exporter": "python",
   "pygments_lexer": "ipython3",
   "version": "3.7.8"
  }
 },
 "nbformat": 4,
 "nbformat_minor": 4
}
